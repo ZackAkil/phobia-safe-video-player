{
 "cells": [
  {
   "cell_type": "code",
   "execution_count": 8,
   "id": "afraid-memory",
   "metadata": {},
   "outputs": [
    {
     "name": "stdout",
     "output_type": "stream",
     "text": [
      "Writing function_code/requirements.txt\n"
     ]
    }
   ],
   "source": [
    "%%writefile function_code/requirements.txt\n",
    "google-cloud-videointelligence\n",
    "google-cloud-video-transcoder\n",
    "google-cloud-storage"
   ]
  },
  {
   "cell_type": "code",
   "execution_count": 31,
   "id": "balanced-consumer",
   "metadata": {},
   "outputs": [
    {
     "name": "stdout",
     "output_type": "stream",
     "text": [
      "Writing function_code/main.py\n"
     ]
    }
   ],
   "source": [
    "%%writefile function_code/main.py\n",
    "\n",
    "import json\n",
    "\n",
    "from google.cloud import storage\n",
    "from google.cloud.video import transcoder\n",
    "\n",
    "from Annotations_util import get_segments_for_labels\n",
    "from Transcoder_utils import create_fade_overlay_segment, create_video_overlay_job, create_static_overlay_segment\n",
    "\n",
    "\n",
    "OUTPUT_BUCKET = 'gs://scary-videos-fixed/'\n",
    "parent_location ='projects/320823659895/locations/europe-west1'\n",
    "\n",
    "transcoder_client = transcoder.TranscoderServiceClient()\n",
    "storage_client = storage.Client()\n",
    "\n",
    "\n",
    "def create_safe_video(event, context):\n",
    "    \n",
    "    file_name = event['name']\n",
    "    bucket_name = event['bucket']\n",
    "    print(file_name)\n",
    "    \n",
    "    # split the fears off the end of the file name name after 🙈 and separate on '&'    \n",
    "    fears = set(file_name.split('.')[-2].split('🙈')[-1].split('+'))\n",
    "    print('look for fears', fears)\n",
    "    fears = set({'bird'})\n",
    "    \n",
    "    annotaion_bucket = storage_client.get_bucket(bucket_name)\n",
    "    \n",
    "    # downalod annotations from GCS     \n",
    "    source_blob_name = file_name\n",
    "    blob = annotaion_bucket.blob(source_blob_name)\n",
    "    text = blob.download_as_string()\n",
    "    annotation_results = json.loads(text)\n",
    "    \n",
    "    # get original file name     \n",
    "    input_uri = 'gs:/' + annotation_results['annotation_results'][0]['input_uri']\n",
    "    file_name = input_uri.split('/')[-1].split('.')[0]\n",
    "    \n",
    "    \n",
    "    # print(annotation_results)\n",
    "    segments = get_segments_for_labels(fears, annotation_results['annotation_results'][0]['shot_label_annotations'])\n",
    "    \n",
    "    print(segments)\n",
    "    \n",
    "    \n",
    "    # create all the overlay segments     \n",
    "    overlay_segments = []\n",
    "    for seg in segments:\n",
    "        overlay_segments += create_static_overlay_segment(*seg)\n",
    "    \n",
    "    print(overlay_segments)\n",
    "    \n",
    "    job = create_video_overlay_job(input_url=input_uri, \n",
    "                                   output_folder=OUTPUT_BUCKET, \n",
    "                                   output_file_name=file_name, \n",
    "                                   overlay_segments = overlay_segments)\n",
    "\n",
    "    job_request = transcoder.CreateJobRequest(parent = parent_location, job = job)\n",
    "    \n",
    "    transcoder_client.create_job(job_request)\n",
    "    "
   ]
  },
  {
   "cell_type": "code",
   "execution_count": 29,
   "id": "southern-replication",
   "metadata": {},
   "outputs": [
    {
     "name": "stdout",
     "output_type": "stream",
     "text": [
      "zoo🙈giraffe+rhinoceros.json\n",
      "look for fears {'giraffe', 'rhinoceros'}\n",
      "[animation_static {\n",
      "  xy {\n",
      "  }\n",
      "  start_time_offset {\n",
      "    seconds: 7\n",
      "    nanos: 480000000\n",
      "  }\n",
      "}\n",
      ", animation_end {\n",
      "  start_time_offset {\n",
      "    seconds: 8\n",
      "    nanos: 880000000\n",
      "  }\n",
      "}\n",
      ", animation_static {\n",
      "  xy {\n",
      "  }\n",
      "  start_time_offset {\n",
      "    seconds: 8\n",
      "    nanos: 919999999\n",
      "  }\n",
      "}\n",
      ", animation_end {\n",
      "  start_time_offset {\n",
      "    seconds: 9\n",
      "    nanos: 720000000\n",
      "  }\n",
      "}\n",
      ", animation_static {\n",
      "  xy {\n",
      "  }\n",
      "  start_time_offset {\n",
      "    seconds: 29\n",
      "    nanos: 480000000\n",
      "  }\n",
      "}\n",
      ", animation_end {\n",
      "  start_time_offset {\n",
      "    seconds: 32\n",
      "    nanos: 560000000\n",
      "  }\n",
      "}\n",
      ", animation_static {\n",
      "  xy {\n",
      "  }\n",
      "  start_time_offset {\n",
      "    seconds: 53\n",
      "    nanos: 439999999\n",
      "  }\n",
      "}\n",
      ", animation_end {\n",
      "  start_time_offset {\n",
      "    seconds: 55\n",
      "    nanos: 200000000\n",
      "  }\n",
      "}\n",
      ", animation_static {\n",
      "  xy {\n",
      "  }\n",
      "  start_time_offset {\n",
      "    seconds: 115\n",
      "    nanos: 840000000\n",
      "  }\n",
      "}\n",
      ", animation_end {\n",
      "  start_time_offset {\n",
      "    seconds: 118\n",
      "  }\n",
      "}\n",
      "]\n"
     ]
    }
   ],
   "source": [
    "event ={'bucket': 'scary-video-annotations', 'name': 'zoo🙈giraffe+rhinoceros.json'}\n",
    "create_safe_video(event, None)"
   ]
  },
  {
   "cell_type": "code",
   "execution_count": 30,
   "id": "robust-reading",
   "metadata": {},
   "outputs": [],
   "source": [
    "labels"
   ]
  },
  {
   "cell_type": "code",
   "execution_count": 32,
   "id": "wrapped-pharmacy",
   "metadata": {},
   "outputs": [
    {
     "name": "stdout",
     "output_type": "stream",
     "text": [
      "Deploying function (may take a while - up to 2 minutes)...⠼                    \n",
      "For Cloud Build Stackdriver Logs, visit: https://console.cloud.google.com/logs/viewer?project=phobia-safe-video-player&advancedFilter=resource.type%3Dbuild%0Aresource.labels.build_id%3D8abb997e-bacb-4642-b3a9-d6bb44f1b4fb%0AlogName%3Dprojects%2Fphobia-safe-video-player%2Flogs%2Fcloudbuild\n",
      "Deploying function (may take a while - up to 2 minutes)...done.                \n",
      "availableMemoryMb: 256\n",
      "buildId: 8abb997e-bacb-4642-b3a9-d6bb44f1b4fb\n",
      "entryPoint: create_safe_video\n",
      "eventTrigger:\n",
      "  eventType: google.storage.object.finalize\n",
      "  failurePolicy:\n",
      "    retry: {}\n",
      "  resource: projects/_/buckets/scary-video-annotations\n",
      "  service: storage.googleapis.com\n",
      "ingressSettings: ALLOW_ALL\n",
      "labels:\n",
      "  deployment-tool: cli-gcloud\n",
      "name: projects/phobia-safe-video-player/locations/europe-west2/functions/create_safe_video\n",
      "runtime: python37\n",
      "serviceAccountEmail: phobia-safe-video-player@appspot.gserviceaccount.com\n",
      "sourceUploadUrl: https://storage.googleapis.com/gcf-upload-europe-west2-b12745c8-23f0-4abb-99ce-f7b442669658/8b3b1ffe-b13a-40eb-8f67-8cec1d21ece1.zip?GoogleAccessId=service-320823659895@gcf-admin-robot.iam.gserviceaccount.com&Expires=1615840223&Signature=IiipXCR43zVH%2BSetkqfVqXs3PpG1hZ4kFeSglq9%2BuDK8RBMtO9rmNGL82WN1drYDaRqHQ2CY3W5ngxM1FIx1wTeE%2BZDwHyvHeptfmbqAAIjqLIqLWfPvyiW5YIO2kpnueBRxPOpWudDdX6zXF6NeZ0CZANuiv8Ni61u76tNp8mGknMtB%2F2tkihC3fhEttxjpAALJTYbvHg%2B0nxE7oMqyBX%2B8RYHALOaLKS4n7KXrR2%2BIPFv%2B2S%2FRnXfSVTRD1qhPDVncWMSUMutDXPQHsTOizDOqWILMguH4fg9Tfi6aA1aShVMhaluBcm0QlykV9Hr82%2FjCNwp3RYPzmbf17xCeMA%3D%3D\n",
      "status: ACTIVE\n",
      "timeout: 60s\n",
      "updateTime: '2021-03-15T20:01:45.020Z'\n",
      "versionId: '2'\n"
     ]
    }
   ],
   "source": [
    "!gcloud functions deploy create_safe_video \\\n",
    "--region europe-west2 \\\n",
    "--runtime python37 \\\n",
    "--source function_code \\\n",
    "--entry-point create_safe_video \\\n",
    "--timeout 60 \\\n",
    "--retry \\\n",
    "--trigger-resource gs://scary-video-annotations \\\n",
    "--trigger-event google.storage.object.finalize"
   ]
  },
  {
   "cell_type": "code",
   "execution_count": null,
   "id": "bulgarian-flood",
   "metadata": {},
   "outputs": [],
   "source": []
  }
 ],
 "metadata": {
  "environment": {
   "name": "common-cpu.m65",
   "type": "gcloud",
   "uri": "gcr.io/deeplearning-platform-release/base-cpu:m65"
  },
  "kernelspec": {
   "display_name": "Python 3",
   "language": "python",
   "name": "python3"
  },
  "language_info": {
   "codemirror_mode": {
    "name": "ipython",
    "version": 3
   },
   "file_extension": ".py",
   "mimetype": "text/x-python",
   "name": "python",
   "nbconvert_exporter": "python",
   "pygments_lexer": "ipython3",
   "version": "3.7.10"
  }
 },
 "nbformat": 4,
 "nbformat_minor": 5
}
