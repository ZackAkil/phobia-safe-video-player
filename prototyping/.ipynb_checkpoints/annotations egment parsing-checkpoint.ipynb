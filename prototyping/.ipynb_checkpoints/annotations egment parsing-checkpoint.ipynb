{
 "cells": [
  {
   "cell_type": "code",
   "execution_count": 13,
   "id": "temporal-laptop",
   "metadata": {},
   "outputs": [
    {
     "name": "stdout",
     "output_type": "stream",
     "text": [
      "Requirement already satisfied: google-cloud-videointelligence in /opt/conda/lib/python3.7/site-packages (1.15.0)\n",
      "Requirement already satisfied: google-api-core[grpc]<2.0.0dev,>=1.14.0 in /opt/conda/lib/python3.7/site-packages (from google-cloud-videointelligence) (1.22.4)\n",
      "Requirement already satisfied: setuptools>=34.0.0 in /opt/conda/lib/python3.7/site-packages (from google-api-core[grpc]<2.0.0dev,>=1.14.0->google-cloud-videointelligence) (49.6.0.post20210108)\n",
      "Requirement already satisfied: google-auth<2.0dev,>=1.21.1 in /opt/conda/lib/python3.7/site-packages (from google-api-core[grpc]<2.0.0dev,>=1.14.0->google-cloud-videointelligence) (1.24.0)\n",
      "Requirement already satisfied: protobuf>=3.12.0 in /opt/conda/lib/python3.7/site-packages (from google-api-core[grpc]<2.0.0dev,>=1.14.0->google-cloud-videointelligence) (3.15.2)\n",
      "Requirement already satisfied: six>=1.13.0 in /opt/conda/lib/python3.7/site-packages (from google-api-core[grpc]<2.0.0dev,>=1.14.0->google-cloud-videointelligence) (1.15.0)\n",
      "Requirement already satisfied: pytz in /opt/conda/lib/python3.7/site-packages (from google-api-core[grpc]<2.0.0dev,>=1.14.0->google-cloud-videointelligence) (2021.1)\n",
      "Requirement already satisfied: googleapis-common-protos<2.0dev,>=1.6.0 in /opt/conda/lib/python3.7/site-packages (from google-api-core[grpc]<2.0.0dev,>=1.14.0->google-cloud-videointelligence) (1.52.0)\n",
      "Requirement already satisfied: requests<3.0.0dev,>=2.18.0 in /opt/conda/lib/python3.7/site-packages (from google-api-core[grpc]<2.0.0dev,>=1.14.0->google-cloud-videointelligence) (2.25.1)\n",
      "Requirement already satisfied: grpcio<2.0dev,>=1.29.0 in /opt/conda/lib/python3.7/site-packages (from google-api-core[grpc]<2.0.0dev,>=1.14.0->google-cloud-videointelligence) (1.36.0)\n",
      "Requirement already satisfied: rsa<5,>=3.1.4 in /opt/conda/lib/python3.7/site-packages (from google-auth<2.0dev,>=1.21.1->google-api-core[grpc]<2.0.0dev,>=1.14.0->google-cloud-videointelligence) (4.7.2)\n",
      "Requirement already satisfied: cachetools<5.0,>=2.0.0 in /opt/conda/lib/python3.7/site-packages (from google-auth<2.0dev,>=1.21.1->google-api-core[grpc]<2.0.0dev,>=1.14.0->google-cloud-videointelligence) (4.2.1)\n",
      "Requirement already satisfied: pyasn1-modules>=0.2.1 in /opt/conda/lib/python3.7/site-packages (from google-auth<2.0dev,>=1.21.1->google-api-core[grpc]<2.0.0dev,>=1.14.0->google-cloud-videointelligence) (0.2.7)\n",
      "Requirement already satisfied: pyasn1<0.5.0,>=0.4.6 in /opt/conda/lib/python3.7/site-packages (from pyasn1-modules>=0.2.1->google-auth<2.0dev,>=1.21.1->google-api-core[grpc]<2.0.0dev,>=1.14.0->google-cloud-videointelligence) (0.4.8)\n",
      "Requirement already satisfied: idna<3,>=2.5 in /opt/conda/lib/python3.7/site-packages (from requests<3.0.0dev,>=2.18.0->google-api-core[grpc]<2.0.0dev,>=1.14.0->google-cloud-videointelligence) (2.10)\n",
      "Requirement already satisfied: chardet<5,>=3.0.2 in /opt/conda/lib/python3.7/site-packages (from requests<3.0.0dev,>=2.18.0->google-api-core[grpc]<2.0.0dev,>=1.14.0->google-cloud-videointelligence) (4.0.0)\n",
      "Requirement already satisfied: certifi>=2017.4.17 in /opt/conda/lib/python3.7/site-packages (from requests<3.0.0dev,>=2.18.0->google-api-core[grpc]<2.0.0dev,>=1.14.0->google-cloud-videointelligence) (2020.12.5)\n",
      "Requirement already satisfied: urllib3<1.27,>=1.21.1 in /opt/conda/lib/python3.7/site-packages (from requests<3.0.0dev,>=2.18.0->google-api-core[grpc]<2.0.0dev,>=1.14.0->google-cloud-videointelligence) (1.26.3)\n",
      "Note: you may need to restart the kernel to use updated packages.\n"
     ]
    }
   ],
   "source": [
    "pip install google-cloud-videointelligence"
   ]
  },
  {
   "cell_type": "code",
   "execution_count": 1,
   "id": "institutional-glance",
   "metadata": {},
   "outputs": [],
   "source": [
    "import json\n",
    "\n",
    "from google.cloud import storage\n",
    "\n",
    "from Annotations_util import get_segments_for_labels"
   ]
  },
  {
   "cell_type": "code",
   "execution_count": 2,
   "id": "crucial-distribution",
   "metadata": {},
   "outputs": [],
   "source": [
    "storage_client = storage.Client()"
   ]
  },
  {
   "cell_type": "code",
   "execution_count": 38,
   "id": "declared-mongolia",
   "metadata": {},
   "outputs": [],
   "source": [
    "def analyse(event, context):\n",
    "    '''\n",
    "    Read annotations\n",
    "    '''\n",
    "    #print('event', event)\n",
    "    \n",
    "    file_name = event['name']\n",
    "    bucket_name = event['bucket']\n",
    "    print(file_name)\n",
    "    \n",
    "    # split the fears off the end of the file name name after 🙈 and separate on '&'    \n",
    "    fears = set(file_name.split('.')[-2].split('🙈')[-1].split('+'))\n",
    "    print('look for fears', fears)\n",
    "    fears = set({'bird'})\n",
    "    \n",
    "    annotaion_bucket = storage_client.get_bucket(bucket_name)\n",
    "    \n",
    "    # downalod annotations from GCS     \n",
    "    source_blob_name = file_name\n",
    "    blob = annotaion_bucket.blob(source_blob_name)\n",
    "    text = blob.download_as_string()\n",
    "    annotation_results = json.loads(text)\n",
    "    \n",
    "    # print(annotation_results)\n",
    "    segments = get_segments_for_labels(fears, annotation_results['annotation_results'][0]['shot_label_annotations'])\n",
    "\n",
    "    \n",
    "    return segments\n",
    "\n",
    "    print(\"\\nFinished processing.\\n\")"
   ]
  },
  {
   "cell_type": "code",
   "execution_count": 39,
   "id": "native-demonstration",
   "metadata": {},
   "outputs": [
    {
     "name": "stdout",
     "output_type": "stream",
     "text": [
      "zoo🙈giraffe+rhinoceros.json\n",
      "look for fears {'giraffe', 'rhinoceros'}\n"
     ]
    }
   ],
   "source": [
    "event ={'bucket': 'scary-video-annotations', 'name': 'zoo🙈giraffe+rhinoceros.json'}\n",
    "labels = analyse(event, None)"
   ]
  },
  {
   "cell_type": "code",
   "execution_count": 40,
   "id": "published-slovenia",
   "metadata": {},
   "outputs": [
    {
     "data": {
      "text/plain": [
       "[[7.48, 8.88], [8.92, 9.72], [29.48, 32.56], [53.44, 55.2], [115.84, 118.0]]"
      ]
     },
     "execution_count": 40,
     "metadata": {},
     "output_type": "execute_result"
    }
   ],
   "source": [
    "labels"
   ]
  },
  {
   "cell_type": "code",
   "execution_count": 41,
   "id": "christian-settle",
   "metadata": {},
   "outputs": [
    {
     "name": "stdout",
     "output_type": "stream",
     "text": [
      "Writing function_code/Annotations_util.py\n"
     ]
    }
   ],
   "source": [
    "%%writefile function_code/Annotations_util.py\n",
    "\n",
    "def get_time(time_json):\n",
    "    output = 0\n",
    "    output += time_json.get('seconds', 0)\n",
    "    output += time_json.get('nanos', 0) * 1e-9\n",
    "    return output\n",
    "\n",
    "\n",
    "def merge_overlaping_segments(sorted_segments):\n",
    "\n",
    "    merged_segments = []\n",
    "\n",
    "    for seg in sorted_segments:\n",
    "\n",
    "        # if its empty add the first one     \n",
    "        if not merged_segments:\n",
    "            merged_segments.append(seg)\n",
    "            continue\n",
    "        \n",
    "        # if the start of the next segment is within the previous segment\n",
    "        # then just extend the previous segment         \n",
    "        if seg[0] <= merged_segments[-1][1]:\n",
    "            merged_segments[-1][1] = seg[1]\n",
    "        else:\n",
    "            merged_segments.append(seg)\n",
    "\n",
    "    return merged_segments\n",
    "    \n",
    "\n",
    "def get_segments_for_labels(labels, annotations):\n",
    "    '''\n",
    "    Find all the segments within the annotations that match any of the labels\n",
    "    '''\n",
    "    \n",
    "    segments = []\n",
    "    \n",
    "    for s in annotations:\n",
    "        \n",
    "        label_match = False\n",
    "\n",
    "#         print(s['entity']['description'])\n",
    "        \n",
    "        # if the lebel we are looking for matches the entity or the category         \n",
    "        if s['entity']['description'] in labels:\n",
    "            label_match = True\n",
    "        elif 'category_entities' in s:\n",
    "            if s['category_entities'][0]['description'] in labels:\n",
    "                label_match = True\n",
    "\n",
    "        if label_match:\n",
    "            for seg in s['segments']:\n",
    "                start_time = get_time( seg['segment']['start_time_offset'])\n",
    "                end_time = get_time( seg['segment']['end_time_offset'])\n",
    "                segments.append( [start_time, end_time] )\n",
    "#                 print('from {} -> {}'.format(start_time, end_time))\n",
    "\n",
    "    sorted_segments = sorted(segments)\n",
    "    merged_segments = merge_overlaping_segments(sorted_segments)\n",
    "\n",
    "    return merged_segments\n"
   ]
  },
  {
   "cell_type": "code",
   "execution_count": null,
   "id": "diverse-patrick",
   "metadata": {},
   "outputs": [],
   "source": []
  }
 ],
 "metadata": {
  "environment": {
   "name": "common-cpu.m65",
   "type": "gcloud",
   "uri": "gcr.io/deeplearning-platform-release/base-cpu:m65"
  },
  "kernelspec": {
   "display_name": "Python 3",
   "language": "python",
   "name": "python3"
  },
  "language_info": {
   "codemirror_mode": {
    "name": "ipython",
    "version": 3
   },
   "file_extension": ".py",
   "mimetype": "text/x-python",
   "name": "python",
   "nbconvert_exporter": "python",
   "pygments_lexer": "ipython3",
   "version": "3.7.10"
  }
 },
 "nbformat": 4,
 "nbformat_minor": 5
}
